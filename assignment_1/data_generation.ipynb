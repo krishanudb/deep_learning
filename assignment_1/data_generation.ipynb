{
 "cells": [
  {
   "cell_type": "code",
   "execution_count": 1,
   "metadata": {
    "collapsed": true
   },
   "outputs": [],
   "source": [
    "import numpy as np\n",
    "import pandas as pd\n",
    "import matplotlib.pyplot as plt\n",
    "import cv2\n",
    "import skimage\n",
    "import psutil\n",
    "\n",
    "import os\n",
    "\n",
    "import shutil"
   ]
  },
  {
   "cell_type": "code",
   "execution_count": 2,
   "metadata": {
    "collapsed": true
   },
   "outputs": [],
   "source": [
    "pathname = \"Training/Normal/\"\n",
    "for folder in os.listdir(\"Training/Normal\"):\n",
    "    nfolder = \"\".join(folder.split(\" \"))\n",
    "    os.rename(pathname + folder, pathname + nfolder)"
   ]
  },
  {
   "cell_type": "code",
   "execution_count": 3,
   "metadata": {
    "collapsed": true
   },
   "outputs": [],
   "source": [
    "pathname = \"Training/Damaged/\"\n",
    "for folder in os.listdir(\"Training/Damaged\"):\n",
    "    nfolder = \"\".join(folder.split(\" \"))\n",
    "    os.rename(pathname + folder, pathname + nfolder)"
   ]
  },
  {
   "cell_type": "code",
   "execution_count": null,
   "metadata": {},
   "outputs": [
    {
     "name": "stderr",
     "output_type": "stream",
     "text": [
      "/home/krishanu/anaconda2/lib/python2.7/site-packages/skimage/transform/_warps.py:105: UserWarning: The default mode, 'constant', will be changed to 'reflect' in skimage 0.15.\n",
      "  warn(\"The default mode, 'constant', will be changed to 'reflect' in \"\n"
     ]
    },
    {
     "name": "stdout",
     "output_type": "stream",
     "text": [
      "0 done out of 324\n",
      "CPU Usage 14.7\n",
      "Memory Usage 12.2\n",
      "30 done out of 324\n",
      "CPU Usage 26.2\n",
      "Memory Usage 13.5\n",
      "60 done out of 324\n",
      "CPU Usage 28.3\n",
      "Memory Usage 14.7\n",
      "90 done out of 324\n",
      "CPU Usage 25.5\n",
      "Memory Usage 15.7\n"
     ]
    }
   ],
   "source": [
    "ap_normal = []\n",
    "lat_normal = []\n",
    "\n",
    "ap_pedicle_normal = []\n",
    "ap_spinous_normal = []\n",
    "ap_vertebra_normal = []\n",
    "\n",
    "lat_ant_line_normal = []\n",
    "lat_disk_height_normal = []\n",
    "lat_post_line_normal = []\n",
    "lat_spinous_normal = []\n",
    "lat_vertebra_normal = []\n",
    "\n",
    "pathname = \"Training/Normal/\"\n",
    "i = 0\n",
    "j = []\n",
    "for folder in os.listdir(\"Training/Normal\"):\n",
    "    try:        \n",
    "        ap = skimage.transform.resize(skimage.io.imread(pathname + folder + \"/AP/AP.jpg\", as_gray=True), (380, 194), anti_aliasing=True)\n",
    "        lat = skimage.transform.resize(skimage.io.imread(pathname + folder + \"/LAT/LAT.jpg\", as_gray=True), (380, 194), anti_aliasing=True)\n",
    "\n",
    "        ap_pedicle = skimage.transform.resize(skimage.io.imread(pathname + folder + \"/AP/Ap_Pedicle.png\", as_gray=True), (380, 194), anti_aliasing=True)\n",
    "        ap_spinous = skimage.transform.resize(skimage.io.imread(pathname + folder + \"/AP/Ap_Spinous_Process.png\", as_gray=True), (380, 194), anti_aliasing=True)\n",
    "        ap_vertebra = skimage.transform.resize(skimage.io.imread(pathname + folder + \"/AP/Ap_Vertebra.png\", as_gray=True), (380, 194), anti_aliasing=True)\n",
    "\n",
    "        lat_ant_line = skimage.transform.resize(skimage.io.imread(pathname + folder + \"/LAT/Lat_Anterior_Vertebral_Line.png\", as_gray=True), (380, 194), anti_aliasing=True)\n",
    "        lat_disk_height = skimage.transform.resize(skimage.io.imread(pathname + folder + \"/LAT/Lat_Disk_Height.png\", as_gray=True), (380, 194), anti_aliasing=True)\n",
    "        lat_post_line = skimage.transform.resize(skimage.io.imread(pathname + folder + \"/LAT/Lat_Posterior_Vertebral_Line.png\", as_gray=True), (380, 194), anti_aliasing=True)\n",
    "        lat_spinous = skimage.transform.resize(skimage.io.imread(pathname + folder + \"/LAT/Lat_Spinous_Process.png\", as_gray=True), (380, 194), anti_aliasing=True)\n",
    "        lat_vertebra = skimage.transform.resize(skimage.io.imread(pathname + folder + \"/LAT/Lat_Vertebra.png\", as_gray=True), (380, 194), anti_aliasing=True)\n",
    "\n",
    "        ap_normal.append(ap)\n",
    "\n",
    "        lat_normal.append(lat)\n",
    "\n",
    "        ap_pedicle_normal.append(ap_pedicle)\n",
    "        ap_spinous_normal.append(ap_spinous)\n",
    "        ap_vertebra_normal.append(ap_vertebra)\n",
    "\n",
    "        lat_ant_line_normal.append(lat_ant_line)\n",
    "        lat_disk_height_normal.append(lat_disk_height)\n",
    "        lat_post_line_normal.append(lat_post_line)\n",
    "        lat_spinous_normal.append(lat_spinous)\n",
    "        lat_vertebra_normal.append(lat_vertebra)\n",
    "        \n",
    "    except Exception as e:\n",
    "        print(\"Some problem in {}\".format(folder))\n",
    "        j.append(folder)\n",
    "    if i % 30 == 0:\n",
    "        print(\"{} done out of {}\".format(i, len(os.listdir(\"Training/Normal\"))))\n",
    "        print(\"CPU Usage {}\".format(psutil.cpu_percent()))\n",
    "        print(\"Memory Usage {}\".format(psutil.virtual_memory()[2]))\n",
    "    i+=1\n",
    "    \n",
    "print(\"Done\")"
   ]
  },
  {
   "cell_type": "code",
   "execution_count": null,
   "metadata": {},
   "outputs": [],
   "source": [
    "ap_damaged = []\n",
    "lat_damaged = []\n",
    "\n",
    "ap_pedicle_damaged = []\n",
    "ap_spinous_damaged = []\n",
    "ap_vertebra_damaged = []\n",
    "\n",
    "lat_ant_line_damaged = []\n",
    "lat_disk_height_damaged = []\n",
    "lat_post_line_damaged = []\n",
    "lat_spinous_damaged = []\n",
    "lat_vertebra_damaged = []\n",
    "\n",
    "pathname = \"Training/Damaged/\"\n",
    "i = 0\n",
    "jd = []\n",
    "for folder in os.listdir(\"Training/Damaged\"):\n",
    "    try:        \n",
    "        ap = skimage.transform.resize(skimage.io.imread(pathname + folder + \"/AP/AP.jpg\", as_gray=True), (380, 194), anti_aliasing=True)\n",
    "        lat = skimage.transform.resize(skimage.io.imread(pathname + folder + \"/LAT/LAT.jpg\", as_gray=True), (380, 194), anti_aliasing=True)\n",
    "\n",
    "        ap_pedicle = skimage.transform.resize(skimage.io.imread(pathname + folder + \"/AP/Ap_Pedicle.png\", as_gray=True), (380, 194), anti_aliasing=True)\n",
    "        ap_spinous = skimage.transform.resize(skimage.io.imread(pathname + folder + \"/AP/Ap_Spinous_Process.png\", as_gray=True), (380, 194), anti_aliasing=True)\n",
    "        ap_vertebra = skimage.transform.resize(skimage.io.imread(pathname + folder + \"/AP/Ap_Vertebra.png\", as_gray=True), (380, 194), anti_aliasing=True)\n",
    "\n",
    "        lat_ant_line = skimage.transform.resize(skimage.io.imread(pathname + folder + \"/LAT/Lat_Anterior_Vertebral_Line.png\", as_gray=True), (380, 194), anti_aliasing=True)\n",
    "        lat_disk_height = skimage.transform.resize(skimage.io.imread(pathname + folder + \"/LAT/Lat_Disk_Height.png\", as_gray=True), (380, 194), anti_aliasing=True)\n",
    "        lat_post_line = skimage.transform.resize(skimage.io.imread(pathname + folder + \"/LAT/Lat_Posterior_Vertebral_Line.png\", as_gray=True), (380, 194), anti_aliasing=True)\n",
    "        lat_spinous = skimage.transform.resize(skimage.io.imread(pathname + folder + \"/LAT/Lat_Spinous_Process.png\", as_gray=True), (380, 194), anti_aliasing=True)\n",
    "        lat_vertebra = skimage.transform.resize(skimage.io.imread(pathname + folder + \"/LAT/Lat_Vertebra.png\", as_gray=True), (380, 194), anti_aliasing=True)\n",
    "\n",
    "        ap_damaged.append(ap)\n",
    "\n",
    "        lat_damaged.append(lat)\n",
    "\n",
    "        ap_pedicle_damaged.append(ap_pedicle)\n",
    "        ap_spinous_damaged.append(ap_spinous)\n",
    "        ap_vertebra_damaged.append(ap_vertebra)\n",
    "\n",
    "        lat_ant_line_damaged.append(lat_ant_line)\n",
    "        lat_disk_height_damaged.append(lat_disk_height)\n",
    "        lat_post_line_damaged.append(lat_post_line)\n",
    "        lat_spinous_damaged.append(lat_spinous)\n",
    "        lat_vertebra_damaged.append(lat_vertebra)\n",
    "        \n",
    "    except Exception as e:\n",
    "        print(\"Some problem in {}\".format(folder))\n",
    "        jd.append(folder)\n",
    "        shutil.rmtree(pathname + folder)\n",
    "    if i % 30 == 0:\n",
    "        print(\"{} done out of {}\".format(i, len(os.listdir(\"Training/Normal\"))))\n",
    "        print(\"CPU Usage {}\".format(psutil.cpu_percent()))\n",
    "        print(\"Memory Usage {}\".format(psutil.virtual_memory()[2]))\n",
    "    i+=1\n",
    "    \n",
    "print(\"Done\")"
   ]
  },
  {
   "cell_type": "code",
   "execution_count": null,
   "metadata": {
    "collapsed": true
   },
   "outputs": [],
   "source": [
    "ap_normal = np.array(ap_normal)\n",
    "lat_normal = np.array(lat_normal)\n",
    "ap_pedicle_normal = np.array(ap_pedicle_normal)\n",
    "ap_spinous_normal = np.array(ap_spinous_normal)\n",
    "ap_vertebra_normal = np.array(ap_vertebra_normal)\n",
    "lat_ant_line_normal = np.array(lat_ant_line_normal)\n",
    "lat_disk_height_normal = np.array(lat_disk_height_normal)\n",
    "lat_post_line_normal = np.array(lat_post_line_normal)\n",
    "lat_spinous_normal = np.array(lat_spinous_normal)\n",
    "lat_vertebra_normal = np.array(lat_vertebra_normal)"
   ]
  },
  {
   "cell_type": "code",
   "execution_count": null,
   "metadata": {
    "collapsed": true
   },
   "outputs": [],
   "source": [
    "ap_pedicle_normal[ap_pedicle_normal > 0.01] = 1.\n",
    "ap_spinous_normal[ap_spinous_normal > 0.01] = 1.\n",
    "ap_vertebra_normal[ap_vertebra_normal > 0.01] = 1.\n",
    "lat_ant_line_normal[lat_ant_line_normal > 0.01] = 1.\n",
    "lat_disk_height_normal[lat_disk_height_normal > 0.01] = 1.\n",
    "lat_post_line_normal[lat_post_line_normal > 0.01] = 1.\n",
    "lat_spinous_normal[lat_spinous_normal > 0.01] = 1.\n",
    "lat_vertebra_normal[lat_vertebra_normal > 0.01] = 1."
   ]
  },
  {
   "cell_type": "code",
   "execution_count": null,
   "metadata": {
    "collapsed": true
   },
   "outputs": [],
   "source": [
    "ap_damaged = np.array(ap_damaged)\n",
    "lat_damaged = np.array(lat_damaged)\n",
    "ap_pedicle_damaged = np.array(ap_pedicle_damaged)\n",
    "ap_spinous_damaged = np.array(ap_spinous_damaged)\n",
    "ap_vertebra_damaged = np.array(ap_vertebra_damaged)\n",
    "lat_ant_line_damaged = np.array(lat_ant_line_damaged)\n",
    "lat_disk_height_damaged = np.array(lat_disk_height_damaged)\n",
    "lat_post_line_damaged = np.array(lat_post_line_damaged)\n",
    "lat_spinous_damaged = np.array(lat_spinous_damaged)\n",
    "lat_vertebra_damaged = np.array(lat_vertebra_damaged)"
   ]
  },
  {
   "cell_type": "code",
   "execution_count": null,
   "metadata": {
    "collapsed": true
   },
   "outputs": [],
   "source": [
    "ap_pedicle_damaged[ap_pedicle_damaged > 0.01] = 1.\n",
    "ap_spinous_damaged[ap_spinous_damaged > 0.01] = 1.\n",
    "ap_vertebra_damaged[ap_vertebra_damaged > 0.01] = 1.\n",
    "lat_ant_line_damaged[lat_ant_line_damaged > 0.01] = 1.\n",
    "lat_disk_height_damaged[lat_disk_height_damaged > 0.01] = 1.\n",
    "lat_post_line_damaged[lat_post_line_damaged > 0.01] = 1.\n",
    "lat_spinous_damaged[lat_spinous_damaged > 0.01] = 1.\n",
    "lat_vertebra_damaged[lat_vertebra_damaged > 0.01] = 1."
   ]
  },
  {
   "cell_type": "code",
   "execution_count": null,
   "metadata": {
    "collapsed": true
   },
   "outputs": [],
   "source": [
    "ap = np.concatenate((ap_normal * 255, ap_damaged * 255), axis = 0).astype(np.uint8)\n",
    "lat = np.concatenate((lat_normal * 255, lat_damaged * 255), axis = 0).astype(np.uint8)\n",
    "\n",
    "ap_pedicle = np.concatenate((ap_pedicle_normal, ap_pedicle_damaged), axis = 0).astype(np.uint8)\n",
    "ap_spinous = np.concatenate((ap_spinous_normal, ap_spinous_damaged), axis = 0).astype(np.uint8)\n",
    "ap_vertebra = np.concatenate((ap_vertebra_normal, ap_vertebra_damaged), axis = 0).astype(np.uint8)\n",
    "\n",
    "lat_ant_line = np.concatenate((lat_ant_line_normal, lat_ant_line_damaged), axis = 0).astype(np.uint8)\n",
    "lat_disk_height = np.concatenate((lat_disk_height_normal, lat_disk_height_damaged), axis = 0).astype(np.uint8)\n",
    "lat_post_line = np.concatenate((lat_post_line_normal, lat_post_line_damaged), axis = 0).astype(np.uint8)\n",
    "lat_spinous = np.concatenate((lat_spinous_normal, lat_spinous_damaged), axis = 0).astype(np.uint8)\n",
    "lat_vertebra = np.concatenate((lat_vertebra_normal, lat_vertebra_damaged), axis = 0).astype(np.uint8)"
   ]
  },
  {
   "cell_type": "code",
   "execution_count": null,
   "metadata": {},
   "outputs": [],
   "source": [
    "print(ap.shape)\n",
    "print(lat.shape)\n",
    "print(ap_pedicle.shape)\n",
    "print(ap_spinous.shape)\n",
    "print(ap_vertebra.shape)\n",
    "print(lat_ant_line.shape)\n",
    "print(lat_disk_height.shape)\n",
    "print(lat_post_line.shape)\n",
    "print(lat_spinous.shape)\n",
    "print(lat_vertebra.shape)"
   ]
  },
  {
   "cell_type": "code",
   "execution_count": null,
   "metadata": {
    "collapsed": true
   },
   "outputs": [],
   "source": [
    "labels = np.zeros((len(ap), 1))\n",
    "labels[len(ap_normal):] = 1\n",
    "labels = labels.astype(np.uint8)"
   ]
  },
  {
   "cell_type": "code",
   "execution_count": null,
   "metadata": {},
   "outputs": [],
   "source": [
    "print(labels.shape)"
   ]
  },
  {
   "cell_type": "code",
   "execution_count": null,
   "metadata": {
    "collapsed": true
   },
   "outputs": [],
   "source": [
    "np.savez(\"dataset.npz\", ap = ap, lat = lat, ap_pedicle = ap_pedicle, ap_spinous = ap_spinous, ap_vertebra = ap_vertebra, lat_ant_line = lat_ant_line, lat_disk_height = lat_disk_height, lat_post_line = lat_post_line, lat_spinous = lat_spinous, lat_vertebra = lat_vertebra, labels = labels)"
   ]
  },
  {
   "cell_type": "code",
   "execution_count": null,
   "metadata": {
    "collapsed": true
   },
   "outputs": [],
   "source": []
  }
 ],
 "metadata": {
  "kernelspec": {
   "display_name": "Python 2",
   "language": "python",
   "name": "python2"
  },
  "language_info": {
   "codemirror_mode": {
    "name": "ipython",
    "version": 2
   },
   "file_extension": ".py",
   "mimetype": "text/x-python",
   "name": "python",
   "nbconvert_exporter": "python",
   "pygments_lexer": "ipython2",
   "version": "2.7.13"
  }
 },
 "nbformat": 4,
 "nbformat_minor": 2
}
